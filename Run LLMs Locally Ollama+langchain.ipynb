{
 "cells": [
  {
   "cell_type": "markdown",
   "id": "2d8ee963",
   "metadata": {},
   "source": [
    "### Install langchain"
   ]
  },
  {
   "cell_type": "markdown",
   "id": "89898a72",
   "metadata": {},
   "source": [
    "``pip install langchain``\n",
    "\n",
    "``pip install langchain-experimental``"
   ]
  },
  {
   "cell_type": "markdown",
   "id": "efc904d3",
   "metadata": {},
   "source": [
    "### Download and install Ollama"
   ]
  },
  {
   "cell_type": "markdown",
   "id": "0cc202e1",
   "metadata": {},
   "source": [
    " **Linux:**\\\n",
    " Follow the tutorial: https://github.com/ollama/ollama/blob/main/docs/linux.md\n",
    "\n",
    " **MacOS:**\\\n",
    " install: ``brew install ollama``\\\n",
    " start server: ``ollama start``\n",
    " \n",
    " Enable hardware acceleration: ``CMAKE_ARGS=\"-DLLAMA_METAL=on\"``"
   ]
  },
  {
   "cell_type": "markdown",
   "id": "c9735b8d",
   "metadata": {},
   "source": [
    "### Download LLM models"
   ]
  },
  {
   "cell_type": "markdown",
   "id": "2db01cb4",
   "metadata": {},
   "source": [
    "Model Hub: https://ollama.com/library \\\n",
    "Example: ``ollama pull llama2``"
   ]
  },
  {
   "cell_type": "markdown",
   "id": "9b1ac1ad",
   "metadata": {},
   "source": [
    "## Run llama 2"
   ]
  },
  {
   "cell_type": "code",
   "execution_count": 3,
   "id": "4ff5c24e",
   "metadata": {},
   "outputs": [],
   "source": [
    "from langchain_community.llms import Ollama"
   ]
  },
  {
   "cell_type": "code",
   "execution_count": 4,
   "id": "dffce740",
   "metadata": {},
   "outputs": [],
   "source": [
    "model = Ollama(model='llama2')"
   ]
  },
  {
   "cell_type": "code",
   "execution_count": 7,
   "id": "1d1147bd",
   "metadata": {},
   "outputs": [],
   "source": [
    "answer = model.invoke(\"Tell me about JAVA programming language\")"
   ]
  },
  {
   "cell_type": "code",
   "execution_count": 9,
   "id": "61244642",
   "metadata": {},
   "outputs": [
    {
     "name": "stdout",
     "output_type": "stream",
     "text": [
      "\n",
      "Java is a high-level, object-oriented programming language developed by Sun Microsystems (now owned by Oracle Corporation). It was first released in 1995 and has since become one of the most popular programming languages in the world. Java is known for its platform independence, which means that programs written in Java can run on any device supporting the Java Virtual Machine (JVM), without the need for recompilation.\n",
      "\n",
      "Here are some key features of the Java programming language:\n",
      "\n",
      "1. Object-oriented programming: Java is an object-oriented language, which means it supports concepts like encapsulation, inheritance, and polymorphism. These concepts help developers create modular, maintainable code.\n",
      "2. Platform independence: Java code can run on any device supporting the JVM, regardless of the underlying hardware and operating system. This makes Java a popular choice for developing desktop applications, mobile apps, and web applications.\n",
      "3. Simple and consistent syntax: Java has a simple and consistent syntax, which makes it easy to learn and use. It also supports a wide range of programming constructs, including loops, conditionals, functions, and arrays.\n",
      "4. Large community and resources: Java has a large and active developer community, with numerous online resources available for learning and troubleshooting. This makes it easier for developers to find help when needed.\n",
      "5. Robust security features: Java has built-in security features, such as memory management and sandboxing, which help protect against common security threats like buffer overflows and untrusted code execution.\n",
      "6. Dynamic loading of classes: Java allows developers to dynamically load classes into the JVM, making it easier to add new functionality to existing applications without modifying their source code.\n",
      "7. Garbage collection: Java has automatic memory management through its garbage collector, which frees developers from worrying about memory allocation and deallocation.\n",
      "8. Multithreading: Java supports multithreading, which allows developers to create programs that can run multiple threads of execution concurrently, improving the overall performance of the application.\n",
      "9. Integration with other languages: Java can be easily integrated with other programming languages like C++, Python, and Ruby, making it a versatile language for development.\n",
      "10. Large number of libraries and frameworks: Java has a vast array of libraries and frameworks that can help developers streamline their development process, including Spring, Hibernate, and Android.\n",
      "\n",
      "Some common use cases for Java include:\n",
      "\n",
      "1. Web applications: Java can be used to develop web applications using frameworks like Apache Struts, Spring, and Vaadin.\n",
      "2. Desktop applications: Java can be used to develop desktop applications using the JavaFX library or by creating a Swing application.\n",
      "3. Mobile applications: Java can be used to develop mobile applications for Android devices using the Android Software Development Kit (SDK).\n",
      "4. Enterprise software: Java is widely used in enterprise software development, particularly for developing large-scale, complex systems that require platform independence and robust security features.\n",
      "5. Scientific computing: Java is used in scientific computing for tasks like data analysis, simulations, and visualization due to its ability to handle large amounts of data and calculate complex mathematical operations.\n",
      "6. Machine learning and artificial intelligence: Java is used in machine learning and artificial intelligence applications due to its support for multithreading and its ability to handle large amounts of data.\n",
      "7. Internet of Things (IoT): Java can be used to develop IoT applications that require platform independence and the ability to run on a wide range of devices.\n",
      "8. Gaming: Java can be used to develop games using the LWJGL library, which provides a set of Java classes for game development.\n",
      "\n",
      "Overall, Java is a versatile programming language with a wide range of applications across various industries. Its platform independence, object-oriented design, and large community make it a popular choice among developers worldwide.\n"
     ]
    }
   ],
   "source": [
    "print(answer)"
   ]
  },
  {
   "cell_type": "markdown",
   "id": "0998b6c6",
   "metadata": {},
   "source": [
    "### More Examples:\n"
   ]
  },
  {
   "cell_type": "markdown",
   "id": "b0724531",
   "metadata": {},
   "source": [
    "- https://python.langchain.com/docs/integrations/llms/ollama\n",
    "- https://medium.com/@abonia/ollama-and-langchain-run-llms-locally-900931914a46\n"
   ]
  },
  {
   "cell_type": "code",
   "execution_count": null,
   "id": "be471cdb",
   "metadata": {},
   "outputs": [],
   "source": []
  }
 ],
 "metadata": {
  "kernelspec": {
   "display_name": "Python 3 (ipykernel)",
   "language": "python",
   "name": "python3"
  },
  "language_info": {
   "codemirror_mode": {
    "name": "ipython",
    "version": 3
   },
   "file_extension": ".py",
   "mimetype": "text/x-python",
   "name": "python",
   "nbconvert_exporter": "python",
   "pygments_lexer": "ipython3",
   "version": "3.10.12"
  }
 },
 "nbformat": 4,
 "nbformat_minor": 5
}
